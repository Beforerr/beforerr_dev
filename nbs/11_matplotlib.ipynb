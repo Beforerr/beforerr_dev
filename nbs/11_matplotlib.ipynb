{
 "cells": [
  {
   "cell_type": "markdown",
   "metadata": {},
   "source": [
    "---\n",
    "title: Utils for Matplotlib\n",
    "---"
   ]
  },
  {
   "cell_type": "code",
   "execution_count": null,
   "metadata": {},
   "outputs": [],
   "source": [
    "# | default_exp matplotlib/__init__\n",
    "# | export\n",
    "import matplotlib.pyplot as plt\n",
    "from matplotlib.pyplot import Axes, Line2D\n",
    "from matplotlib.figure import Figure\n",
    "from matplotlib.legend import Legend\n",
    "from pydantic import BaseModel\n",
    "from typing import Callable\n",
    "import sys\n",
    "import os\n",
    "import beforerr.matplotlib as bmpl\n",
    "from beforerr.project import plotsdir\n",
    "\n",
    "# Define the type alias\n",
    "PlotObject = Figure | Axes | list[Axes] | None"
   ]
  },
  {
   "cell_type": "code",
   "execution_count": null,
   "metadata": {},
   "outputs": [],
   "source": [
    "# | code-summary: Register the bundled stylesheets in the matplotlib style library\n",
    "# | export\n",
    "# https://github.com/garrettj403/SciencePlots/blob/master/scienceplots/__init__.py\n",
    "module_path = bmpl.__path__[0]\n",
    "styles_path = os.path.join(module_path, \"styles\")\n",
    "\n",
    "# Reads styles in /styles folder and all subfolders\n",
    "stylesheets = {}  # plt.style.library is a dictionary\n",
    "for folder, _, _ in os.walk(styles_path):\n",
    "    new_stylesheets = plt.style.core.read_style_directory(folder)\n",
    "    stylesheets.update(new_stylesheets)\n",
    "\n",
    "# Update dictionary of styles - plt.style.library\n",
    "plt.style.core.update_nested_dict(plt.style.library, stylesheets)\n",
    "# Update `plt.style.available`, copy-paste from:\n",
    "# https://github.com/matplotlib/matplotlib/blob/a170539a421623bb2967a45a24bb7926e2feb542/lib/matplotlib/style/core.py#L266  # noqa: E501\n",
    "plt.style.core.available[:] = sorted(plt.style.library.keys())"
   ]
  },
  {
   "cell_type": "code",
   "execution_count": null,
   "metadata": {},
   "outputs": [],
   "source": [
    "# | export\n",
    "def get_axes(obj: PlotObject):\n",
    "    if isinstance(obj, Axes):\n",
    "        return [obj]\n",
    "    elif isinstance(obj, Figure):\n",
    "        return obj.axes\n",
    "    elif isinstance(obj, list):\n",
    "        return obj\n",
    "    else:\n",
    "        return plt.gcf().axes\n",
    "\n",
    "\n",
    "def func2axes(obj: PlotObject, func: Callable, *args, **kwargs):\n",
    "    for ax in get_axes(obj):\n",
    "        func(ax, *args, **kwargs)\n",
    "\n",
    "\n",
    "def func2lines(obj: PlotObject, func: Callable, *args, **kwargs):\n",
    "    for ax in get_axes(obj):\n",
    "        for line in ax.get_lines():\n",
    "            func(line, *args, **kwargs)\n",
    "\n",
    "\n",
    "def func2legend(obj: PlotObject, func: Callable, *args, **kwargs):\n",
    "    for ax in get_axes(obj):\n",
    "        legend = ax.get_legend()\n",
    "        legend and func(legend, *args, **kwargs)"
   ]
  },
  {
   "cell_type": "markdown",
   "metadata": {},
   "source": [
    "# Figure"
   ]
  },
  {
   "cell_type": "code",
   "execution_count": null,
   "metadata": {},
   "outputs": [],
   "source": [
    "# | export\n",
    "def figsize(col=1, width: float = None, height: float = None, ratio: float = None):\n",
    "    \"\"\"Return figure size for a given height and column width for publication.\n",
    "\n",
    "    Parameters\n",
    "    ----------\n",
    "    col : int, optional\n",
    "        Number of columns the figure spans.\n",
    "    ratio : float, optional\n",
    "        Aspect ratio of the figure (height/width).\n",
    "    \"\"\"\n",
    "    DEFAULT_WIDTH = 3.4\n",
    "    DEFAULT_RATIO = 0.68\n",
    "\n",
    "    width = width or DEFAULT_WIDTH * col\n",
    "    ratio = ratio or DEFAULT_RATIO\n",
    "    height = height or ratio * width\n",
    "\n",
    "    return width, height"
   ]
  },
  {
   "cell_type": "markdown",
   "metadata": {},
   "source": [
    "## Saving"
   ]
  },
  {
   "cell_type": "code",
   "execution_count": null,
   "metadata": {},
   "outputs": [],
   "source": [
    "# | export\n",
    "def easy_save(name: str, fig: Figure = None, formats=[\"svg\"], dir=plotsdir(), **kwargs):\n",
    "    fig = fig or plt.gcf()\n",
    "    path = dir / name\n",
    "    return [fig.savefig(path.with_suffix(f\".{fmt}\"), **kwargs) for fmt in formats]"
   ]
  },
  {
   "cell_type": "markdown",
   "metadata": {},
   "source": [
    "## Axes"
   ]
  },
  {
   "cell_type": "code",
   "execution_count": null,
   "metadata": {},
   "outputs": [],
   "source": [
    "# | export\n",
    "# | hide\n",
    "def unify_axis_fontsize(ax: Axes, fontsize: str | float):\n",
    "    mainlabels = [ax.title, ax.xaxis.label, ax.yaxis.label]\n",
    "    ticklabels = ax.get_xticklabels() + ax.get_yticklabels()\n",
    "    for text in mainlabels + ticklabels:\n",
    "        text.set_fontsize(fontsize)"
   ]
  },
  {
   "cell_type": "code",
   "execution_count": null,
   "metadata": {},
   "outputs": [],
   "source": [
    "# | export\n",
    "def unify_axes_fontsize(\n",
    "    obj: PlotObject = None,  # a single axis or a list of axes\n",
    "    fontsize: str\n",
    "    | float = \"medium\",  # string values denote sizes relative to the default font size\n",
    "):\n",
    "    \"\"\"\n",
    "    Set the fontsize of all text elements in a matplotlib axis to the same value.\n",
    "    \"\"\"\n",
    "    func2axes(obj, unify_axis_fontsize, fontsize)"
   ]
  },
  {
   "cell_type": "code",
   "execution_count": null,
   "metadata": {},
   "outputs": [],
   "source": [
    "# | export\n",
    "def _hide_x_axis_label(ax: Axes):\n",
    "    ax.set_xlabel(\"\")\n",
    "\n",
    "\n",
    "def _hide_y_axis_label(ax: Axes):\n",
    "    ax.set_ylabel(None)\n",
    "\n",
    "\n",
    "def hide_xlabels(obj: PlotObject = None):\n",
    "    func2axes(obj, _hide_x_axis_label)\n",
    "\n",
    "\n",
    "def hide_ylabels(obj: PlotObject = None):\n",
    "    func2axes(obj, _hide_y_axis_label)\n",
    "\n",
    "\n",
    "def _create_legend(ax: Axes, handletextpad=0, handlelength=0, **kwargs):\n",
    "    if ax.get_legend_handles_labels()[0]:\n",
    "        ax.legend(handletextpad=handletextpad, handlelength=handlelength, **kwargs)\n",
    "\n",
    "\n",
    "def create_legends(obj: PlotObject = None, **kwargs):\n",
    "    func2axes(obj, _create_legend, **kwargs)"
   ]
  },
  {
   "cell_type": "markdown",
   "metadata": {},
   "source": [
    "### Lines"
   ]
  },
  {
   "cell_type": "code",
   "execution_count": null,
   "metadata": {},
   "outputs": [],
   "source": [
    "# | export\n",
    "# change line width in all axes\n",
    "def _set_linewidth(obj: Line2D, w):\n",
    "    obj.set_linewidth(w)\n",
    "\n",
    "\n",
    "def set_linewidth(w, obj: PlotObject = None):\n",
    "    func2lines(obj, _set_linewidth, w)"
   ]
  },
  {
   "cell_type": "markdown",
   "metadata": {},
   "source": [
    "## Legends"
   ]
  },
  {
   "cell_type": "code",
   "execution_count": null,
   "metadata": {},
   "outputs": [],
   "source": [
    "# | export\n",
    "def _sync_legend_colors(legend: Legend):\n",
    "    for line, text in zip(legend.get_lines(), legend.get_texts()):\n",
    "        text.set_color(line.get_color())\n",
    "\n",
    "\n",
    "def sync_legend_colors(obj: PlotObject = None):\n",
    "    \"\"\"Synchronize legend text colors with their corresponding line colors.\"\"\"\n",
    "    func2legend(obj, _sync_legend_colors)\n",
    "\n",
    "\n",
    "def _hide_legend(legend: Legend):\n",
    "    legend.set_visible(False)\n",
    "    legend.remove()\n",
    "\n",
    "\n",
    "def hide_legends(obj: PlotObject = None):\n",
    "    \"\"\"Hide legends on all axes.\"\"\"\n",
    "    func2legend(obj, _hide_legend)\n",
    "\n",
    "\n",
    "def _hide_legend_lines(legend: Legend):\n",
    "    \"\"\"Hide legend lines.\"\"\"\n",
    "    for line in legend.get_lines():\n",
    "        line.set_visible(False)\n",
    "\n",
    "\n",
    "def hide_legend_lines(obj: PlotObject = None):\n",
    "    \"\"\"Hide legend lines on all axes.\"\"\"\n",
    "    func2legend(obj, _hide_legend_lines)"
   ]
  },
  {
   "cell_type": "markdown",
   "metadata": {},
   "source": [
    "## Pipelines"
   ]
  },
  {
   "cell_type": "code",
   "execution_count": null,
   "metadata": {},
   "outputs": [],
   "source": [
    "# | export\n",
    "class PlotOpts(BaseModel):\n",
    "    \"\"\"Options to apply to a matplotlib object.\"\"\"\n",
    "\n",
    "    sync_legend_colors: bool = False\n",
    "    hide_legends: bool = False\n",
    "    hide_legend_lines: bool = False\n",
    "    hide_xlabels: bool = False\n",
    "    hide_ylabels: bool = False\n",
    "\n",
    "    def model_post_init(self, __context):\n",
    "        update_rcParams(self)\n",
    "        return super().model_post_init(__context)\n",
    "\n",
    "    def process_figure(self, obj, **kwargs):\n",
    "        return process_figure(obj, self, **kwargs)\n",
    "\n",
    "\n",
    "def process_figure(obj, plot_opts: BaseModel, **kwargs):\n",
    "    for key, value in plot_opts.model_dump().items():\n",
    "        # Get a reference to the current module function\n",
    "        func = getattr(sys.modules[__name__], key)\n",
    "        value and func(obj, **kwargs)\n",
    "\n",
    "    return obj\n",
    "\n",
    "\n",
    "def update_rcParams(plot_opts: PlotOpts):\n",
    "    if plot_opts.hide_legend_lines:\n",
    "        plt.rcParams[\"legend.handlelength\"] = 0\n",
    "        plt.rcParams[\"legend.handletextpad\"] = -1.5"
   ]
  }
 ],
 "metadata": {
  "kernelspec": {
   "display_name": "python3",
   "language": "python",
   "name": "python3"
  }
 },
 "nbformat": 4,
 "nbformat_minor": 2
}
