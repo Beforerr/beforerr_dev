{
 "cells": [
  {
   "cell_type": "markdown",
   "metadata": {},
   "source": [
    "---\n",
    "title: Utils for Matplotlib\n",
    "---"
   ]
  },
  {
   "cell_type": "code",
   "execution_count": null,
   "metadata": {},
   "outputs": [],
   "source": [
    "# | default_exp matplotlib\n",
    "# | export\n",
    "from matplotlib.pyplot import Axes\n",
    "from matplotlib.figure import Figure"
   ]
  },
  {
   "cell_type": "code",
   "execution_count": null,
   "metadata": {},
   "outputs": [],
   "source": [
    "# | export\n",
    "def func2axes(axes: Axes | list[Axes], func, *args, **kwargs):\n",
    "    if isinstance(axes, Axes):\n",
    "        axes = [axes]\n",
    "    for ax in axes:\n",
    "        func(ax, *args, **kwargs)"
   ]
  },
  {
   "cell_type": "code",
   "execution_count": null,
   "metadata": {},
   "outputs": [],
   "source": [
    "# | export\n",
    "# | hide\n",
    "def unify_axis_fontsize(ax: Axes, fontsize: str | float):\n",
    "    mainlabels = [ax.title, ax.xaxis.label, ax.yaxis.label]\n",
    "    ticklabels = ax.get_xticklabels() + ax.get_yticklabels()\n",
    "    for text in mainlabels + ticklabels:\n",
    "        text.set_fontsize(fontsize)"
   ]
  },
  {
   "cell_type": "code",
   "execution_count": null,
   "metadata": {},
   "outputs": [],
   "source": [
    "# | export\n",
    "def unify_axes_fontsize(\n",
    "    axes: Axes,  # a single axis or a list of axes\n",
    "    fontsize: str\n",
    "    | float = \"medium\",  # string values denote sizes relative to the default font size\n",
    "):\n",
    "    \"\"\"\n",
    "    Set the fontsize of all text elements in a matplotlib axis to the same value.\n",
    "    \"\"\"\n",
    "    func2axes(axes, unify_axis_fontsize, fontsize)"
   ]
  },
  {
   "cell_type": "code",
   "execution_count": null,
   "metadata": {},
   "outputs": [],
   "source": [
    "# | export\n",
    "def hide_axis_legend(ax: Axes):\n",
    "    ax.legend().set_visible(False)\n",
    "\n",
    "\n",
    "def hide_axes_legend(axes: Axes | list[Axes]):\n",
    "    func2axes(axes, hide_axis_legend)\n",
    "\n",
    "\n",
    "def hide_fig_legend(fig: Figure):\n",
    "    hide_axes_legend(fig.axes)"
   ]
  },
  {
   "cell_type": "code",
   "execution_count": null,
   "metadata": {},
   "outputs": [],
   "source": [
    "# | export\n",
    "def hide_x_axis_label(ax: Axes):\n",
    "    ax.set_xlabel(\"\")\n",
    "\n",
    "\n",
    "def hide_y_axis_label(ax: Axes):\n",
    "    ax.set_ylabel(None)\n",
    "\n",
    "\n",
    "def hide_x_axes_label(axes: Axes | list[Axes]):\n",
    "    func2axes(axes, hide_x_axis_label)\n",
    "\n",
    "\n",
    "def hide_y_axes_label(axes: Axes | list[Axes]):\n",
    "    func2axes(axes, hide_y_axis_label)"
   ]
  }
 ],
 "metadata": {
  "kernelspec": {
   "display_name": "python3",
   "language": "python",
   "name": "python3"
  }
 },
 "nbformat": 4,
 "nbformat_minor": 2
}
