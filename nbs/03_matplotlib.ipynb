{
 "cells": [
  {
   "cell_type": "markdown",
   "metadata": {},
   "source": [
    "---\n",
    "title: Utils for Matplotlib\n",
    "---"
   ]
  },
  {
   "cell_type": "code",
   "execution_count": null,
   "metadata": {},
   "outputs": [],
   "source": [
    "#| default_exp matplotlib\n",
    "#| export\n",
    "from matplotlib.pyplot import Axes\n",
    "from typing import Iterable"
   ]
  },
  {
   "cell_type": "code",
   "execution_count": null,
   "metadata": {},
   "outputs": [],
   "source": [
    "# | export\n",
    "# | hide\n",
    "def unify_axis_fontsize(ax: Axes, fontsize: str | float):\n",
    "    mainlabels = [ax.title, ax.xaxis.label, ax.yaxis.label]\n",
    "    ticklabels = ax.get_xticklabels() + ax.get_yticklabels()\n",
    "    for text in mainlabels + ticklabels:\n",
    "        text.set_fontsize(fontsize)"
   ]
  },
  {
   "cell_type": "code",
   "execution_count": null,
   "metadata": {},
   "outputs": [],
   "source": [
    "# | export\n",
    "def unify_axes_fontsize(\n",
    "    axes: Axes, # a single axis or a list of axes\n",
    "    fontsize: str | float = \"medium\" # string values denote sizes relative to the default font size\n",
    "):\n",
    "    \"\"\"\n",
    "    Set the fontsize of all text elements in a matplotlib axis to the same value.\n",
    "    \"\"\"\n",
    "    if not isinstance(axes, Iterable):\n",
    "        axes = [axes]\n",
    "    for ax in axes:\n",
    "        unify_axis_fontsize(ax, fontsize)"
   ]
  }
 ],
 "metadata": {
  "kernelspec": {
   "display_name": "Python 3",
   "language": "python",
   "name": "python3"
  },
  "language_info": {
   "name": "python",
   "version": "3.12.3"
  }
 },
 "nbformat": 4,
 "nbformat_minor": 2
}
