{
 "cells": [
  {
   "cell_type": "markdown",
   "metadata": {},
   "source": [
    "---\n",
    "title: IO utils\n",
    "---\n",
    "\n",
    "## Inspirations\n",
    "\n",
    "- [FileIO.jl](https://juliaio.github.io/FileIO.jl/stable)\n",
    "    - [FileIO.jl/src/loadsave.jl at master · JuliaIO/FileIO.jl](https://github.com/JuliaIO/FileIO.jl/blob/master/src/loadsave.jl)\n",
    "- [Intake](https://intake.readthedocs.io/en/latest/index.html)\n",
    "    - [intake/intake/readers/datatypes.py at master · intake/intake](https://github.com/intake/intake/blob/master/intake/readers/datatypes.py)\n",
    "    - [Easy loading and saving · Issue #819 · intake/intake](https://github.com/intake/intake/issues/819)\n",
    "\n",
    "Reference:\n",
    "\n",
    "- [7. Input and Output — Python documentation](https://docs.python.org/3/tutorial/inputoutput.html)"
   ]
  },
  {
   "cell_type": "code",
   "execution_count": 19,
   "metadata": {},
   "outputs": [],
   "source": [
    "#| default_exp io/__init__\n",
    "#| export\n",
    "from intake.readers.datatypes import recommend, JSONFile\n",
    "import importlib\n",
    "from functools import partial"
   ]
  },
  {
   "cell_type": "code",
   "execution_count": 20,
   "metadata": {},
   "outputs": [],
   "source": [
    "# | exporti\n",
    "maps = {JSONFile: [\"beforerr.io.json\"],}\n",
    "\n",
    "def checkpath(file):\n",
    "    # Placeholder implementation, replace with actual path checking logic\n",
    "    pass\n",
    "\n",
    "def query_datatype(file):\n",
    "    \"\"\"query the datatype of a file\n",
    "\n",
    "    See also `os.path.splitext(file)` to get the file extension\n",
    "    \"\"\"\n",
    "    datatypes = recommend(file)\n",
    "    if JSONFile in datatypes:\n",
    "        return JSONFile\n",
    "    else:\n",
    "        return datatypes\n",
    "\n",
    "def applicable_func(datatype, func=\"load\"):\n",
    "    libraries = maps[datatype]\n",
    "    lib = libraries[0]\n",
    "    mod = importlib.import_module(lib)\n",
    "    return getattr(mod, func)"
   ]
  },
  {
   "cell_type": "code",
   "execution_count": 21,
   "metadata": {},
   "outputs": [],
   "source": [
    "# | export\n",
    "def action(func, file, *args, **kwargs):\n",
    "    checkpath(file)\n",
    "    dp = query_datatype(file)\n",
    "    return applicable_func(dp, func)(file, *args, **kwargs)\n",
    "\n",
    "load = partial(action, \"load\")\n",
    "save = partial(action, \"save\")"
   ]
  },
  {
   "cell_type": "code",
   "execution_count": 22,
   "metadata": {},
   "outputs": [],
   "source": [
    "fp = 'test/test.json'\n",
    "data = load(fp)\n",
    "save('test/test2.json', data)"
   ]
  }
 ],
 "metadata": {
  "kernelspec": {
   "display_name": "Python 3",
   "language": "python",
   "name": "python3"
  },
  "language_info": {
   "codemirror_mode": {
    "name": "ipython",
    "version": 3
   },
   "file_extension": ".py",
   "mimetype": "text/x-python",
   "name": "python",
   "nbconvert_exporter": "python",
   "pygments_lexer": "ipython3",
   "version": "3.12.3"
  }
 },
 "nbformat": 4,
 "nbformat_minor": 2
}
