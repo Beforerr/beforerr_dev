{
 "cells": [
  {
   "cell_type": "markdown",
   "metadata": {},
   "source": [
    "---\n",
    "title: IO utils\n",
    "---\n",
    "\n",
    "## Inspirations\n",
    "\n",
    "- [FileIO.jl](https://juliaio.github.io/FileIO.jl/stable)\n",
    "    - [FileIO.jl/src/loadsave.jl at master · JuliaIO/FileIO.jl](https://github.com/JuliaIO/FileIO.jl/blob/master/src/loadsave.jl)\n",
    "- [Intake](https://intake.readthedocs.io/en/latest/index.html)\n",
    "    - [intake/intake/readers/datatypes.py at master · intake/intake](https://github.com/intake/intake/blob/master/intake/readers/datatypes.py)\n",
    "    - [Easy loading and saving · Issue #819 · intake/intake](https://github.com/intake/intake/issues/819)\n",
    "\n",
    "Reference:\n",
    "\n",
    "- [7. Input and Output — Python documentation](https://docs.python.org/3/tutorial/inputoutput.html)"
   ]
  },
  {
   "cell_type": "code",
   "execution_count": null,
   "metadata": {},
   "outputs": [],
   "source": [
    "# | default_exp io/__init__\n",
    "# | export\n",
    "from intake.readers.datatypes import recommend, JSONFile, PickleFile, Feather2\n",
    "import importlib\n",
    "from functools import partial\n",
    "from pydantic import validate_call\n",
    "from pathlib import Path"
   ]
  },
  {
   "cell_type": "code",
   "execution_count": null,
   "metadata": {},
   "outputs": [],
   "source": [
    "# | exporti\n",
    "maps = {\n",
    "    JSONFile: [\"beforerr.io.json\"],\n",
    "    PickleFile: [\"beforerr.io.pickle\"],\n",
    "    Feather2: [\"beforerr.io.arrow_ipc\"],\n",
    "}\n",
    "\n",
    "\n",
    "def checkpath(file):\n",
    "    # Placeholder implementation, replace with actual path checking logic\n",
    "    pass\n",
    "\n",
    "\n",
    "def query_datatype(file: str):\n",
    "    \"\"\"query the datatype of a file\n",
    "\n",
    "    See also `os.path.splitext(file)` to get the file extension\n",
    "    \"\"\"\n",
    "    datatypes = recommend(file)\n",
    "    if JSONFile in datatypes:\n",
    "        return JSONFile\n",
    "    if Feather2 in datatypes:\n",
    "        return Feather2\n",
    "    else:\n",
    "        return PickleFile\n",
    "\n",
    "\n",
    "def applicable_func(datatype, func=\"load\"):\n",
    "    libraries = maps[datatype]\n",
    "    lib = libraries[0]\n",
    "    mod = importlib.import_module(lib)\n",
    "    return getattr(mod, func)"
   ]
  },
  {
   "cell_type": "code",
   "execution_count": null,
   "metadata": {},
   "outputs": [],
   "source": [
    "# | export\n",
    "@validate_call\n",
    "def action(func, file: Path, *args, **kwargs):\n",
    "    checkpath(file)\n",
    "    dp = query_datatype(file.as_posix())\n",
    "    return applicable_func(dp, func)(file, *args, **kwargs)\n",
    "\n",
    "\n",
    "load = partial(action, \"load\")\n",
    "save = partial(action, \"save\")"
   ]
  },
  {
   "cell_type": "markdown",
   "metadata": {},
   "source": [
    "## Test"
   ]
  },
  {
   "cell_type": "code",
   "execution_count": null,
   "metadata": {},
   "outputs": [],
   "source": [
    "fp = \"test/test.json\"\n",
    "data = load(fp)"
   ]
  }
 ],
 "metadata": {
  "kernelspec": {
   "display_name": "python3",
   "language": "python",
   "name": "python3"
  }
 },
 "nbformat": 4,
 "nbformat_minor": 2
}
