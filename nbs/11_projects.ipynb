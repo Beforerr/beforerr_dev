{
 "cells": [
  {
   "cell_type": "markdown",
   "metadata": {},
   "source": [
    "---\n",
    "title: Scientific project utils\n",
    "---\n",
    "\n",
    "## Inspirations\n",
    "\n",
    "- [DrWatson.jl](https://juliadynamics.github.io/DrWatson.jl/stable/)\n",
    "- [sacred](https://sacred.readthedocs.io/en/stable/)"
   ]
  },
  {
   "cell_type": "code",
   "execution_count": null,
   "metadata": {},
   "outputs": [],
   "source": [
    "#| default_exp project\n",
    "#| export\n",
    "import os\n",
    "import warnings\n",
    "from typing import Any, Callable, Dict, List, Tuple, Union"
   ]
  },
  {
   "cell_type": "code",
   "execution_count": null,
   "metadata": {},
   "outputs": [],
   "source": [
    "from fastcore.test import test_eq"
   ]
  },
  {
   "cell_type": "code",
   "execution_count": null,
   "metadata": {},
   "outputs": [],
   "source": [
    "#| exporti\n",
    "def valtostring(val: Any, digits: Union[int, None], sigdigits: int) -> str:\n",
    "    if isinstance(val, float):\n",
    "        if digits is not None:\n",
    "            return f\"{val:.{digits}f}\"\n",
    "        elif sigdigits is not None:\n",
    "            return f\"{val:.{sigdigits}g}\"\n",
    "    return str(val)"
   ]
  },
  {
   "cell_type": "code",
   "execution_count": null,
   "metadata": {},
   "outputs": [],
   "source": [
    "#| export\n",
    "def savename(\n",
    "    c: Dict,\n",
    "    prefix: str = \"\",\n",
    "    suffix: str = \"\",\n",
    "    allowedtypes: Tuple = (int, float, str, bool),\n",
    "    accesses: List[str] = [],\n",
    "    ignores: List[str] = [],\n",
    "    digits: Union[int, None] = None,\n",
    "    connector: str = \"_\",\n",
    "    expand: List[str] = [],\n",
    "    sigdigits: int = 3,\n",
    "    val2string: Callable = None,\n",
    "    sort: bool = True,\n",
    "    equals: str = \"=\",\n",
    ") -> str:\n",
    "\n",
    "    if any(sep in prefix for sep in [\"/\", \"\\\\\"]):\n",
    "        warnings.warn(\n",
    "            \"Path separators in `savename` prefixes may break reproducibility on other OS. \"\n",
    "            \"The recommended way is using `os.path.join` with `savename` (e.g. `os.path.join(datadir, savename(prefix, data))`).\"\n",
    "        )\n",
    "\n",
    "    sigdigits = None if digits is not None else sigdigits\n",
    "    val2string = val2string or (lambda val: valtostring(val, digits, sigdigits))\n",
    "\n",
    "    labels = accesses or list(c.keys())\n",
    "    p = (\n",
    "        sorted(range(len(labels)), key=lambda k: labels[k])\n",
    "        if sort\n",
    "        else range(len(labels))\n",
    "    )\n",
    "\n",
    "    first = not prefix or prefix.endswith(os.path.sep)\n",
    "    s = prefix\n",
    "    for j in p:\n",
    "        label = labels[j]\n",
    "        if label in ignores:\n",
    "            continue\n",
    "        val = c[label]\n",
    "        t = type(val)\n",
    "        if any(issubclass(t, x) for x in allowedtypes):\n",
    "            if label in expand:\n",
    "                if not val:\n",
    "                    continue\n",
    "                sname = savename(\n",
    "                    val,\n",
    "                    connector=\",\",\n",
    "                    digits=digits,\n",
    "                    sigdigits=sigdigits,\n",
    "                    equals=equals,\n",
    "                )\n",
    "                if not sname:\n",
    "                    continue\n",
    "                entry = f\"{label}{equals}({sname})\"\n",
    "            else:\n",
    "                entry = f\"{label}{equals}{val2string(val)}\"\n",
    "            if not first:\n",
    "                s += connector\n",
    "            s += entry\n",
    "            first = False\n",
    "\n",
    "    if suffix:\n",
    "        s += f\".{suffix}\"\n",
    "\n",
    "    return s"
   ]
  },
  {
   "cell_type": "code",
   "execution_count": null,
   "metadata": {},
   "outputs": [],
   "source": [
    "# Examples\n",
    "d = {\"a\": 0.153456453, \"b\": 5, \"mode\": \"double\"}\n",
    "test_eq(savename(d), \"a=0.153_b=5_mode=double\")\n",
    "test_eq(savename(d, digits=4), \"a=0.1535_b=5_mode=double\")\n",
    "test_eq(savename(d, prefix=\"n\"), \"n_a=0.153_b=5_mode=double\")\n",
    "test_eq(savename(d, suffix=\"n\"), \"a=0.153_b=5_mode=double.n\")\n",
    "test_eq(savename(d, prefix=\"n\", suffix=\"n\", connector=\"-\"), \"n-a=0.153-b=5-mode=double.n\")\n",
    "test_eq(savename(d, allowedtypes=(str,)), \"mode=double\")\n",
    "test_eq(savename(d, connector=\" | \", equals=\" = \"), \"a = 0.153 | b = 5 | mode = double\")\n",
    "\n",
    "rick = {\"never\": \"gonna\", \"give\": \"you\", \"up\": \"!\"}\n",
    "test_eq(savename(rick), \"give=you_never=gonna_up=!\")\n",
    "test_eq(savename(rick, ignores=[\"up\"]), \"give=you_never=gonna\")\n"
   ]
  }
 ],
 "metadata": {
  "kernelspec": {
   "display_name": "Python 3",
   "language": "python",
   "name": "python3"
  },
  "language_info": {
   "name": "python",
   "version": "3.12.3"
  }
 },
 "nbformat": 4,
 "nbformat_minor": 2
}
