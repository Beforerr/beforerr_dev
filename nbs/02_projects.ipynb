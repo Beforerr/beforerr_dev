{
 "cells": [
  {
   "cell_type": "markdown",
   "metadata": {},
   "source": [
    "---\n",
    "title: Scientific project utils\n",
    "---\n",
    "\n",
    "## Inspirations\n",
    "\n",
    "- [DrWatson.jl](https://juliadynamics.github.io/DrWatson.jl/stable/)\n",
    "- [sacred](https://sacred.readthedocs.io/en/stable/)\n"
   ]
  },
  {
   "cell_type": "code",
   "execution_count": 3,
   "metadata": {},
   "outputs": [],
   "source": [
    "# | default_exp project\n",
    "# | export\n",
    "import os\n",
    "from pathlib import Path\n",
    "import warnings\n",
    "from typing import Any, Callable, Dict, List, Tuple, Union\n",
    "from loguru import logger"
   ]
  },
  {
   "cell_type": "code",
   "execution_count": 4,
   "metadata": {},
   "outputs": [],
   "source": [
    "from fastcore.test import test_eq"
   ]
  },
  {
   "cell_type": "markdown",
   "metadata": {},
   "source": [
    "## Naming Tools"
   ]
  },
  {
   "cell_type": "code",
   "execution_count": 5,
   "metadata": {},
   "outputs": [],
   "source": [
    "# | export\n",
    "def savename(\n",
    "    c: Dict,\n",
    "    prefix: str = \"\",\n",
    "    suffix: str = \"\",\n",
    "    allowedtypes: Tuple = (int, float, str, bool),\n",
    "    accesses: List[str] = [],\n",
    "    ignores: List[str] = [],\n",
    "    digits: int = None,\n",
    "    connector: str = \"_\",\n",
    "    equals: str = \"=\",\n",
    "    expand: List[str] = [],\n",
    "    sigdigits: int = 3,\n",
    "    val2string: Callable = None,\n",
    "    sort: bool = True,\n",
    ") -> str:\n",
    "    \"\"\"\n",
    "    Create a shorthand name based on the parameters in the dictionary `c`.\n",
    "\n",
    "    Parameters\n",
    "    ----------\n",
    "    c : Dict\n",
    "        The input dictionary containing the parameters.\n",
    "    prefix : str, optional\n",
    "        The prefix to start the name with.\n",
    "    suffix : str, optional\n",
    "        The suffix to end the name with.\n",
    "    allowedtypes : Tuple, optional\n",
    "        Only values of these types are included. (default: (int, float, str, bool))\n",
    "    accesses : List[str], optional\n",
    "        Specific keys to include in the name.\n",
    "    ignores : List[str], optional\n",
    "        Specific keys to ignore.\n",
    "    digits : Union[int, None], optional\n",
    "        Number of decimal digits for rounding floats.\n",
    "    connector : str, optional\n",
    "        String used to connect key-value pairs.\n",
    "    equals : str, optional\n",
    "        Connector between key and value.\n",
    "    expand : List[str], optional\n",
    "        Keys that will be expanded to their nested savename.\n",
    "    sigdigits : int, optional\n",
    "        Number of significant digits for rounding floats.\n",
    "    val2string : Callable, optional\n",
    "        Function to convert values to strings.\n",
    "    sort : bool, optional\n",
    "        Whether to sort the keys alphabetically.\n",
    "\n",
    "\n",
    "    Returns\n",
    "    -------\n",
    "    str\n",
    "        The generated shorthand name.\n",
    "    \"\"\"\n",
    "\n",
    "    if any(sep in prefix for sep in [\"/\", \"\\\\\"]):\n",
    "        warnings.warn(\n",
    "            \"Path separators in `savename` prefixes may break reproducibility on other OS. \"\n",
    "            \"The recommended way is using `os.path.join` with `savename` (e.g. `os.path.join(datadir, savename(prefix, data))`).\"\n",
    "        )\n",
    "\n",
    "    sigdigits = None if digits is not None else sigdigits\n",
    "    val2string = val2string or (lambda val: valtostring(val, digits, sigdigits))\n",
    "\n",
    "    labels = accesses or list(c.keys())\n",
    "    p = (\n",
    "        sorted(range(len(labels)), key=lambda k: labels[k])\n",
    "        if sort\n",
    "        else range(len(labels))\n",
    "    )\n",
    "\n",
    "    first = not prefix or prefix.endswith(os.path.sep)\n",
    "    s = prefix\n",
    "    for j in p:\n",
    "        label = labels[j]\n",
    "        if label in ignores:\n",
    "            continue\n",
    "        val = c[label]\n",
    "        t = type(val)\n",
    "        if any(issubclass(t, x) for x in allowedtypes):\n",
    "            if label in expand:\n",
    "                if not val:\n",
    "                    continue\n",
    "                sname = savename(\n",
    "                    val,\n",
    "                    connector=\",\",\n",
    "                    digits=digits,\n",
    "                    sigdigits=sigdigits,\n",
    "                    equals=equals,\n",
    "                )\n",
    "                if not sname:\n",
    "                    continue\n",
    "                entry = f\"{label}{equals}({sname})\"\n",
    "            else:\n",
    "                entry = f\"{label}{equals}{val2string(val)}\"\n",
    "            if not first:\n",
    "                s += connector\n",
    "            s += entry\n",
    "            first = False\n",
    "\n",
    "    if suffix:\n",
    "        s += f\".{suffix}\"\n",
    "\n",
    "    return s"
   ]
  },
  {
   "cell_type": "code",
   "execution_count": 6,
   "metadata": {},
   "outputs": [
    {
     "ename": "NameError",
     "evalue": "name 'valtostring' is not defined",
     "output_type": "error",
     "traceback": [
      "\u001b[0;31m---------------------------------------------------------------------------\u001b[0m",
      "\u001b[0;31mNameError\u001b[0m                                 Traceback (most recent call last)",
      "Cell \u001b[0;32mIn[6], line 3\u001b[0m\n\u001b[1;32m      1\u001b[0m \u001b[38;5;66;03m# Examples\u001b[39;00m\n\u001b[1;32m      2\u001b[0m d \u001b[38;5;241m=\u001b[39m {\u001b[38;5;124m\"\u001b[39m\u001b[38;5;124ma\u001b[39m\u001b[38;5;124m\"\u001b[39m: \u001b[38;5;241m0.153456453\u001b[39m, \u001b[38;5;124m\"\u001b[39m\u001b[38;5;124mb\u001b[39m\u001b[38;5;124m\"\u001b[39m: \u001b[38;5;241m5\u001b[39m, \u001b[38;5;124m\"\u001b[39m\u001b[38;5;124mmode\u001b[39m\u001b[38;5;124m\"\u001b[39m: \u001b[38;5;124m\"\u001b[39m\u001b[38;5;124mdouble\u001b[39m\u001b[38;5;124m\"\u001b[39m}\n\u001b[0;32m----> 3\u001b[0m test_eq(\u001b[43msavename\u001b[49m\u001b[43m(\u001b[49m\u001b[43md\u001b[49m\u001b[43m)\u001b[49m, \u001b[38;5;124m\"\u001b[39m\u001b[38;5;124ma=0.153_b=5_mode=double\u001b[39m\u001b[38;5;124m\"\u001b[39m)\n\u001b[1;32m      4\u001b[0m test_eq(savename(d, digits\u001b[38;5;241m=\u001b[39m\u001b[38;5;241m4\u001b[39m), \u001b[38;5;124m\"\u001b[39m\u001b[38;5;124ma=0.1535_b=5_mode=double\u001b[39m\u001b[38;5;124m\"\u001b[39m)\n\u001b[1;32m      5\u001b[0m test_eq(savename(d, prefix\u001b[38;5;241m=\u001b[39m\u001b[38;5;124m\"\u001b[39m\u001b[38;5;124mn\u001b[39m\u001b[38;5;124m\"\u001b[39m), \u001b[38;5;124m\"\u001b[39m\u001b[38;5;124mn_a=0.153_b=5_mode=double\u001b[39m\u001b[38;5;124m\"\u001b[39m)\n",
      "Cell \u001b[0;32mIn[5], line 95\u001b[0m, in \u001b[0;36msavename\u001b[0;34m(c, prefix, suffix, allowedtypes, accesses, ignores, digits, connector, equals, expand, sigdigits, val2string, sort)\u001b[0m\n\u001b[1;32m     93\u001b[0m     entry \u001b[38;5;241m=\u001b[39m \u001b[38;5;124mf\u001b[39m\u001b[38;5;124m\"\u001b[39m\u001b[38;5;132;01m{\u001b[39;00mlabel\u001b[38;5;132;01m}\u001b[39;00m\u001b[38;5;132;01m{\u001b[39;00mequals\u001b[38;5;132;01m}\u001b[39;00m\u001b[38;5;124m(\u001b[39m\u001b[38;5;132;01m{\u001b[39;00msname\u001b[38;5;132;01m}\u001b[39;00m\u001b[38;5;124m)\u001b[39m\u001b[38;5;124m\"\u001b[39m\n\u001b[1;32m     94\u001b[0m \u001b[38;5;28;01melse\u001b[39;00m:\n\u001b[0;32m---> 95\u001b[0m     entry \u001b[38;5;241m=\u001b[39m \u001b[38;5;124mf\u001b[39m\u001b[38;5;124m\"\u001b[39m\u001b[38;5;132;01m{\u001b[39;00mlabel\u001b[38;5;132;01m}\u001b[39;00m\u001b[38;5;132;01m{\u001b[39;00mequals\u001b[38;5;132;01m}\u001b[39;00m\u001b[38;5;132;01m{\u001b[39;00m\u001b[43mval2string\u001b[49m\u001b[43m(\u001b[49m\u001b[43mval\u001b[49m\u001b[43m)\u001b[49m\u001b[38;5;132;01m}\u001b[39;00m\u001b[38;5;124m\"\u001b[39m\n\u001b[1;32m     96\u001b[0m \u001b[38;5;28;01mif\u001b[39;00m \u001b[38;5;129;01mnot\u001b[39;00m first:\n\u001b[1;32m     97\u001b[0m     s \u001b[38;5;241m+\u001b[39m\u001b[38;5;241m=\u001b[39m connector\n",
      "Cell \u001b[0;32mIn[5], line 63\u001b[0m, in \u001b[0;36msavename.<locals>.<lambda>\u001b[0;34m(val)\u001b[0m\n\u001b[1;32m     57\u001b[0m     warnings\u001b[38;5;241m.\u001b[39mwarn(\n\u001b[1;32m     58\u001b[0m         \u001b[38;5;124m\"\u001b[39m\u001b[38;5;124mPath separators in `savename` prefixes may break reproducibility on other OS. \u001b[39m\u001b[38;5;124m\"\u001b[39m\n\u001b[1;32m     59\u001b[0m         \u001b[38;5;124m\"\u001b[39m\u001b[38;5;124mThe recommended way is using `os.path.join` with `savename` (e.g. `os.path.join(datadir, savename(prefix, data))`).\u001b[39m\u001b[38;5;124m\"\u001b[39m\n\u001b[1;32m     60\u001b[0m     )\n\u001b[1;32m     62\u001b[0m sigdigits \u001b[38;5;241m=\u001b[39m \u001b[38;5;28;01mNone\u001b[39;00m \u001b[38;5;28;01mif\u001b[39;00m digits \u001b[38;5;129;01mis\u001b[39;00m \u001b[38;5;129;01mnot\u001b[39;00m \u001b[38;5;28;01mNone\u001b[39;00m \u001b[38;5;28;01melse\u001b[39;00m sigdigits\n\u001b[0;32m---> 63\u001b[0m val2string \u001b[38;5;241m=\u001b[39m val2string \u001b[38;5;129;01mor\u001b[39;00m (\u001b[38;5;28;01mlambda\u001b[39;00m val: \u001b[43mvaltostring\u001b[49m(val, digits, sigdigits))\n\u001b[1;32m     65\u001b[0m labels \u001b[38;5;241m=\u001b[39m accesses \u001b[38;5;129;01mor\u001b[39;00m \u001b[38;5;28mlist\u001b[39m(c\u001b[38;5;241m.\u001b[39mkeys())\n\u001b[1;32m     66\u001b[0m p \u001b[38;5;241m=\u001b[39m (\n\u001b[1;32m     67\u001b[0m     \u001b[38;5;28msorted\u001b[39m(\u001b[38;5;28mrange\u001b[39m(\u001b[38;5;28mlen\u001b[39m(labels)), key\u001b[38;5;241m=\u001b[39m\u001b[38;5;28;01mlambda\u001b[39;00m k: labels[k])\n\u001b[1;32m     68\u001b[0m     \u001b[38;5;28;01mif\u001b[39;00m sort\n\u001b[1;32m     69\u001b[0m     \u001b[38;5;28;01melse\u001b[39;00m \u001b[38;5;28mrange\u001b[39m(\u001b[38;5;28mlen\u001b[39m(labels))\n\u001b[1;32m     70\u001b[0m )\n",
      "\u001b[0;31mNameError\u001b[0m: name 'valtostring' is not defined"
     ]
    }
   ],
   "source": [
    "# Examples\n",
    "d = {\"a\": 0.153456453, \"b\": 5, \"mode\": \"double\"}\n",
    "test_eq(savename(d), \"a=0.153_b=5_mode=double\")\n",
    "test_eq(savename(d, digits=4), \"a=0.1535_b=5_mode=double\")\n",
    "test_eq(savename(d, prefix=\"n\"), \"n_a=0.153_b=5_mode=double\")\n",
    "test_eq(savename(d, suffix=\"n\"), \"a=0.153_b=5_mode=double.n\")\n",
    "test_eq(\n",
    "    savename(d, prefix=\"n\", suffix=\"n\", connector=\"-\"), \"n-a=0.153-b=5-mode=double.n\"\n",
    ")\n",
    "test_eq(savename(d, allowedtypes=(str,)), \"mode=double\")\n",
    "test_eq(savename(d, connector=\" | \", equals=\" = \"), \"a = 0.153 | b = 5 | mode = double\")\n",
    "\n",
    "rick = {\"never\": \"gonna\", \"give\": \"you\", \"up\": \"!\"}\n",
    "test_eq(savename(rick), \"give=you_never=gonna_up=!\")\n",
    "test_eq(savename(rick, ignores=[\"up\"]), \"give=you_never=gonna\")"
   ]
  },
  {
   "cell_type": "code",
   "execution_count": null,
   "metadata": {},
   "outputs": [],
   "source": [
    "# | export\n",
    "def append_prefix_suffix(name: str, prefix: str, suffix: str):\n",
    "    if prefix:\n",
    "        name = f\"{prefix}_{name}\"\n",
    "    if suffix:\n",
    "        name = f\"{name}.{suffix}\"\n",
    "    return name"
   ]
  },
  {
   "cell_type": "markdown",
   "metadata": {},
   "source": [
    "## Directory tools"
   ]
  },
  {
   "cell_type": "code",
   "execution_count": null,
   "metadata": {},
   "outputs": [],
   "source": [
    "# | export\n",
    "def projectdir():\n",
    "    try:\n",
    "        path = Path(os.getenv(\"PIXI_PROJECT_ROOT\"))\n",
    "    except TypeError:\n",
    "        path = Path().cwd()\n",
    "    return path\n",
    "\n",
    "\n",
    "def datadir():\n",
    "    return projectdir() / \"data\""
   ]
  },
  {
   "cell_type": "code",
   "execution_count": null,
   "metadata": {},
   "outputs": [],
   "source": [
    "# | export\n",
    "def setup_run_dir(\n",
    "    c: Dict, base_dir: Callable = datadir, change_dir: bool = True, **kwargs\n",
    "):\n",
    "    \"\"\"\n",
    "    Create a run directory based on the parameters in the dictionary `c`.\n",
    "\n",
    "    Parameters\n",
    "    ----------\n",
    "    c\n",
    "        The dictionary containing the parameters.\n",
    "    base_dir\n",
    "        The base directory to create the run directory in.\n",
    "\n",
    "    Returns\n",
    "    -------\n",
    "    Path\n",
    "        The run directory.\n",
    "    \"\"\"\n",
    "\n",
    "    sub_dir = savename(c, **kwargs)\n",
    "    base_dir = Path(base_dir()) if callable(base_dir) else Path(base_dir)\n",
    "    directory = base_dir / sub_dir\n",
    "    os.makedirs(directory, exist_ok=True)\n",
    "    if change_dir:\n",
    "        os.chdir(directory)\n",
    "        logger.info(f\"Changed directory to {directory}\")"
   ]
  },
  {
   "cell_type": "code",
   "execution_count": null,
   "metadata": {},
   "outputs": [],
   "source": [
    "# | exporti\n",
    "def valtostring(val: Any, digits: Union[int, None], sigdigits: int) -> str:\n",
    "    if isinstance(val, float):\n",
    "        if digits is not None:\n",
    "            return f\"{val:.{digits}f}\"\n",
    "        elif sigdigits is not None:\n",
    "            return f\"{val:.{sigdigits}g}\"\n",
    "    return str(val)"
   ]
  },
  {
   "cell_type": "markdown",
   "metadata": {},
   "source": [
    "## Saving Tools"
   ]
  },
  {
   "cell_type": "code",
   "execution_count": null,
   "metadata": {},
   "outputs": [],
   "source": [
    "# | exporti\n",
    "import shutil\n",
    "\n",
    "\n",
    "def increment_backup_num(filepath: Path):\n",
    "    if \"_\" in filepath.stem and filepath.stem.rsplit(\"_\", 1)[-1].isdigit():\n",
    "        base, num = filepath.stem.rsplit(\"_\", 1)\n",
    "        new_num = int(num) + 1\n",
    "    else:\n",
    "        base, new_num = filepath.stem, 1\n",
    "    return filepath.with_name(f\"{base}_{new_num}{filepath.suffix}\")"
   ]
  },
  {
   "cell_type": "code",
   "execution_count": null,
   "metadata": {},
   "outputs": [],
   "source": [
    "# | export\n",
    "def safesave(filepath: Path, data, save_func: Callable):\n",
    "    if filepath.exists():\n",
    "        backup_path = increment_backup_num(filepath)\n",
    "        while backup_path.exists():\n",
    "            backup_path = increment_backup_num(backup_path)\n",
    "        shutil.move(str(filepath), str(backup_path))\n",
    "    return save_func(filepath, data)"
   ]
  },
  {
   "cell_type": "code",
   "execution_count": null,
   "metadata": {},
   "outputs": [],
   "source": [
    "# Example usage\n",
    "data = \"Some data to be savedsss\"\n",
    "safesave(\"test.txt\", data)"
   ]
  },
  {
   "cell_type": "markdown",
   "metadata": {},
   "source": [
    "### Produce or Load\n",
    "\n",
    "[Produce or Load - DrWatson.jl](https://juliadynamics.github.io/DrWatson.jl/stable/save/#Produce-or-Load)\n"
   ]
  },
  {
   "cell_type": "code",
   "execution_count": null,
   "metadata": {},
   "outputs": [],
   "source": [
    "# | export\n",
    "from beforerr.io import load, save"
   ]
  },
  {
   "cell_type": "code",
   "execution_count": null,
   "metadata": {},
   "outputs": [],
   "source": [
    "# | export\n",
    "def produce_or_load_file(\n",
    "    f: Callable,\n",
    "    config: Any,\n",
    "    file: Path,\n",
    "    force: bool = False,\n",
    "    verbose: bool = True,\n",
    "    **kwargs,\n",
    "):\n",
    "\n",
    "    exist = file.is_file()\n",
    "    if not force and exist:\n",
    "        data = load(file, **kwargs)\n",
    "        return data, file\n",
    "    else:\n",
    "        if verbose:\n",
    "            force and print(f\"Producing file {file} now...\")\n",
    "            not exist and print(f\"File {file} does not exist. Producing it now...\")\n",
    "\n",
    "        data = f(config)\n",
    "\n",
    "        try:\n",
    "            save(file, data, **kwargs)\n",
    "            verbose and print(f\"File {file} saved.\")\n",
    "        except Exception as e:\n",
    "            print(f\"Could not save file. Error: {e}\")\n",
    "\n",
    "        return data, file\n",
    "\n",
    "\n",
    "def produce_or_load(\n",
    "    f: Callable,\n",
    "    config: Any,\n",
    "    path: Path = Path.cwd(),\n",
    "    suffix: str = \"pickle\",\n",
    "    prefix: str = None,\n",
    "    force: bool = False,\n",
    "    verbose: bool = True,\n",
    "    action_kwargs: dict = {},\n",
    "    filename: Union[Callable, str] = None,\n",
    "    **kwargs,\n",
    "):\n",
    "\n",
    "    if filename is None:\n",
    "        name = savename(prefix, config, suffix, **kwargs)\n",
    "    elif callable(filename):\n",
    "        name = filename(config)\n",
    "    elif isinstance(filename, str):\n",
    "        name = filename\n",
    "    else:\n",
    "        raise ValueError(\"filename must be a callable or a string.\")\n",
    "\n",
    "    name = append_prefix_suffix(filename, prefix, suffix)\n",
    "\n",
    "    file = path / name\n",
    "\n",
    "    return produce_or_load_file(f, config, file, force, verbose, **action_kwargs)"
   ]
  }
 ],
 "metadata": {
  "kernelspec": {
   "display_name": "Python 3",
   "language": "python",
   "name": "python3"
  },
  "language_info": {
   "codemirror_mode": {
    "name": "ipython",
    "version": 3
   },
   "file_extension": ".py",
   "mimetype": "text/x-python",
   "name": "python",
   "nbconvert_exporter": "python",
   "pygments_lexer": "ipython3",
   "version": "3.12.3"
  }
 },
 "nbformat": 4,
 "nbformat_minor": 2
}
